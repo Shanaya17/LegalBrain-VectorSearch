{
  "nbformat": 4,
  "nbformat_minor": 0,
  "metadata": {
    "colab": {
      "provenance": [],
      "authorship_tag": "ABX9TyPHDpY4vQYcRVGasTy5r5Xs",
      "include_colab_link": true
    },
    "kernelspec": {
      "name": "python3",
      "display_name": "Python 3"
    },
    "language_info": {
      "name": "python"
    },
    "widgets": {
      "application/vnd.jupyter.widget-state+json": {
        "c85a517a5bfd4aeb824b075185d686d2": {
          "model_module": "@jupyter-widgets/controls",
          "model_name": "HBoxModel",
          "model_module_version": "1.5.0",
          "state": {
            "_dom_classes": [],
            "_model_module": "@jupyter-widgets/controls",
            "_model_module_version": "1.5.0",
            "_model_name": "HBoxModel",
            "_view_count": null,
            "_view_module": "@jupyter-widgets/controls",
            "_view_module_version": "1.5.0",
            "_view_name": "HBoxView",
            "box_style": "",
            "children": [
              "IPY_MODEL_cc164b7fc439448b98d93e51d8ec8af0",
              "IPY_MODEL_8fe0f0116c0a4a988a73b333d1a4e1f3",
              "IPY_MODEL_56c248449ed14b9aa5c819999f2ccfe2"
            ],
            "layout": "IPY_MODEL_a9af02fd397a486e9f1db302e6c9bf8f"
          }
        },
        "cc164b7fc439448b98d93e51d8ec8af0": {
          "model_module": "@jupyter-widgets/controls",
          "model_name": "HTMLModel",
          "model_module_version": "1.5.0",
          "state": {
            "_dom_classes": [],
            "_model_module": "@jupyter-widgets/controls",
            "_model_module_version": "1.5.0",
            "_model_name": "HTMLModel",
            "_view_count": null,
            "_view_module": "@jupyter-widgets/controls",
            "_view_module_version": "1.5.0",
            "_view_name": "HTMLView",
            "description": "",
            "description_tooltip": null,
            "layout": "IPY_MODEL_04281b9861ee42e2b8949c6479cf66b9",
            "placeholder": "​",
            "style": "IPY_MODEL_17c7bf4d9b9f4be190328e181c47ba6c",
            "value": "100%"
          }
        },
        "8fe0f0116c0a4a988a73b333d1a4e1f3": {
          "model_module": "@jupyter-widgets/controls",
          "model_name": "FloatProgressModel",
          "model_module_version": "1.5.0",
          "state": {
            "_dom_classes": [],
            "_model_module": "@jupyter-widgets/controls",
            "_model_module_version": "1.5.0",
            "_model_name": "FloatProgressModel",
            "_view_count": null,
            "_view_module": "@jupyter-widgets/controls",
            "_view_module_version": "1.5.0",
            "_view_name": "ProgressView",
            "bar_style": "success",
            "description": "",
            "description_tooltip": null,
            "layout": "IPY_MODEL_bf1896b7df0443e2ba20f9fc7dc81bfa",
            "max": 30,
            "min": 0,
            "orientation": "horizontal",
            "style": "IPY_MODEL_d7c5cd0b7d6c46e3b462cf92748fb5e7",
            "value": 30
          }
        },
        "56c248449ed14b9aa5c819999f2ccfe2": {
          "model_module": "@jupyter-widgets/controls",
          "model_name": "HTMLModel",
          "model_module_version": "1.5.0",
          "state": {
            "_dom_classes": [],
            "_model_module": "@jupyter-widgets/controls",
            "_model_module_version": "1.5.0",
            "_model_name": "HTMLModel",
            "_view_count": null,
            "_view_module": "@jupyter-widgets/controls",
            "_view_module_version": "1.5.0",
            "_view_name": "HTMLView",
            "description": "",
            "description_tooltip": null,
            "layout": "IPY_MODEL_c1626b178d544edbaa8ffda01d6820c4",
            "placeholder": "​",
            "style": "IPY_MODEL_eb22b28b7a1c49e18eb99f09c2e1d299",
            "value": " 30/30 [00:48&lt;00:00,  1.16s/it]"
          }
        },
        "a9af02fd397a486e9f1db302e6c9bf8f": {
          "model_module": "@jupyter-widgets/base",
          "model_name": "LayoutModel",
          "model_module_version": "1.2.0",
          "state": {
            "_model_module": "@jupyter-widgets/base",
            "_model_module_version": "1.2.0",
            "_model_name": "LayoutModel",
            "_view_count": null,
            "_view_module": "@jupyter-widgets/base",
            "_view_module_version": "1.2.0",
            "_view_name": "LayoutView",
            "align_content": null,
            "align_items": null,
            "align_self": null,
            "border": null,
            "bottom": null,
            "display": null,
            "flex": null,
            "flex_flow": null,
            "grid_area": null,
            "grid_auto_columns": null,
            "grid_auto_flow": null,
            "grid_auto_rows": null,
            "grid_column": null,
            "grid_gap": null,
            "grid_row": null,
            "grid_template_areas": null,
            "grid_template_columns": null,
            "grid_template_rows": null,
            "height": null,
            "justify_content": null,
            "justify_items": null,
            "left": null,
            "margin": null,
            "max_height": null,
            "max_width": null,
            "min_height": null,
            "min_width": null,
            "object_fit": null,
            "object_position": null,
            "order": null,
            "overflow": null,
            "overflow_x": null,
            "overflow_y": null,
            "padding": null,
            "right": null,
            "top": null,
            "visibility": null,
            "width": null
          }
        },
        "04281b9861ee42e2b8949c6479cf66b9": {
          "model_module": "@jupyter-widgets/base",
          "model_name": "LayoutModel",
          "model_module_version": "1.2.0",
          "state": {
            "_model_module": "@jupyter-widgets/base",
            "_model_module_version": "1.2.0",
            "_model_name": "LayoutModel",
            "_view_count": null,
            "_view_module": "@jupyter-widgets/base",
            "_view_module_version": "1.2.0",
            "_view_name": "LayoutView",
            "align_content": null,
            "align_items": null,
            "align_self": null,
            "border": null,
            "bottom": null,
            "display": null,
            "flex": null,
            "flex_flow": null,
            "grid_area": null,
            "grid_auto_columns": null,
            "grid_auto_flow": null,
            "grid_auto_rows": null,
            "grid_column": null,
            "grid_gap": null,
            "grid_row": null,
            "grid_template_areas": null,
            "grid_template_columns": null,
            "grid_template_rows": null,
            "height": null,
            "justify_content": null,
            "justify_items": null,
            "left": null,
            "margin": null,
            "max_height": null,
            "max_width": null,
            "min_height": null,
            "min_width": null,
            "object_fit": null,
            "object_position": null,
            "order": null,
            "overflow": null,
            "overflow_x": null,
            "overflow_y": null,
            "padding": null,
            "right": null,
            "top": null,
            "visibility": null,
            "width": null
          }
        },
        "17c7bf4d9b9f4be190328e181c47ba6c": {
          "model_module": "@jupyter-widgets/controls",
          "model_name": "DescriptionStyleModel",
          "model_module_version": "1.5.0",
          "state": {
            "_model_module": "@jupyter-widgets/controls",
            "_model_module_version": "1.5.0",
            "_model_name": "DescriptionStyleModel",
            "_view_count": null,
            "_view_module": "@jupyter-widgets/base",
            "_view_module_version": "1.2.0",
            "_view_name": "StyleView",
            "description_width": ""
          }
        },
        "bf1896b7df0443e2ba20f9fc7dc81bfa": {
          "model_module": "@jupyter-widgets/base",
          "model_name": "LayoutModel",
          "model_module_version": "1.2.0",
          "state": {
            "_model_module": "@jupyter-widgets/base",
            "_model_module_version": "1.2.0",
            "_model_name": "LayoutModel",
            "_view_count": null,
            "_view_module": "@jupyter-widgets/base",
            "_view_module_version": "1.2.0",
            "_view_name": "LayoutView",
            "align_content": null,
            "align_items": null,
            "align_self": null,
            "border": null,
            "bottom": null,
            "display": null,
            "flex": null,
            "flex_flow": null,
            "grid_area": null,
            "grid_auto_columns": null,
            "grid_auto_flow": null,
            "grid_auto_rows": null,
            "grid_column": null,
            "grid_gap": null,
            "grid_row": null,
            "grid_template_areas": null,
            "grid_template_columns": null,
            "grid_template_rows": null,
            "height": null,
            "justify_content": null,
            "justify_items": null,
            "left": null,
            "margin": null,
            "max_height": null,
            "max_width": null,
            "min_height": null,
            "min_width": null,
            "object_fit": null,
            "object_position": null,
            "order": null,
            "overflow": null,
            "overflow_x": null,
            "overflow_y": null,
            "padding": null,
            "right": null,
            "top": null,
            "visibility": null,
            "width": null
          }
        },
        "d7c5cd0b7d6c46e3b462cf92748fb5e7": {
          "model_module": "@jupyter-widgets/controls",
          "model_name": "ProgressStyleModel",
          "model_module_version": "1.5.0",
          "state": {
            "_model_module": "@jupyter-widgets/controls",
            "_model_module_version": "1.5.0",
            "_model_name": "ProgressStyleModel",
            "_view_count": null,
            "_view_module": "@jupyter-widgets/base",
            "_view_module_version": "1.2.0",
            "_view_name": "StyleView",
            "bar_color": null,
            "description_width": ""
          }
        },
        "c1626b178d544edbaa8ffda01d6820c4": {
          "model_module": "@jupyter-widgets/base",
          "model_name": "LayoutModel",
          "model_module_version": "1.2.0",
          "state": {
            "_model_module": "@jupyter-widgets/base",
            "_model_module_version": "1.2.0",
            "_model_name": "LayoutModel",
            "_view_count": null,
            "_view_module": "@jupyter-widgets/base",
            "_view_module_version": "1.2.0",
            "_view_name": "LayoutView",
            "align_content": null,
            "align_items": null,
            "align_self": null,
            "border": null,
            "bottom": null,
            "display": null,
            "flex": null,
            "flex_flow": null,
            "grid_area": null,
            "grid_auto_columns": null,
            "grid_auto_flow": null,
            "grid_auto_rows": null,
            "grid_column": null,
            "grid_gap": null,
            "grid_row": null,
            "grid_template_areas": null,
            "grid_template_columns": null,
            "grid_template_rows": null,
            "height": null,
            "justify_content": null,
            "justify_items": null,
            "left": null,
            "margin": null,
            "max_height": null,
            "max_width": null,
            "min_height": null,
            "min_width": null,
            "object_fit": null,
            "object_position": null,
            "order": null,
            "overflow": null,
            "overflow_x": null,
            "overflow_y": null,
            "padding": null,
            "right": null,
            "top": null,
            "visibility": null,
            "width": null
          }
        },
        "eb22b28b7a1c49e18eb99f09c2e1d299": {
          "model_module": "@jupyter-widgets/controls",
          "model_name": "DescriptionStyleModel",
          "model_module_version": "1.5.0",
          "state": {
            "_model_module": "@jupyter-widgets/controls",
            "_model_module_version": "1.5.0",
            "_model_name": "DescriptionStyleModel",
            "_view_count": null,
            "_view_module": "@jupyter-widgets/base",
            "_view_module_version": "1.2.0",
            "_view_name": "StyleView",
            "description_width": ""
          }
        }
      }
    }
  },
  "cells": [
    {
      "cell_type": "markdown",
      "metadata": {
        "id": "view-in-github",
        "colab_type": "text"
      },
      "source": [
        "<a href=\"https://colab.research.google.com/github/kunal2002/LegalBrain-VectorSearch/blob/PineconeData/PineconeData.ipynb\" target=\"_parent\"><img src=\"https://colab.research.google.com/assets/colab-badge.svg\" alt=\"Open In Colab\"/></a>"
      ]
    },
    {
      "cell_type": "markdown",
      "source": [
        "#**Full** Judgment File"
      ],
      "metadata": {
        "id": "nBeZ_Dd0zSaG"
      }
    },
    {
      "cell_type": "code",
      "source": [
        "import json\n",
        "f1 = open('1950-1955.json')\n",
        "data1 = json.load(f1)\n",
        "attributes = ['id', 'date', 'tagline','judgment'] # 0 , 1, 2 , 3\n",
        "# print(len(data[0][attributes[2]]))\n",
        "full_judgment = []\n",
        "# // 932 judgments\n",
        "# //id date tagline judgment\n",
        "for i in range(len(data1)):\n",
        "  full_judgment.append(data1[i][attributes[3]])\n",
        "print(len(full_judgment))\n",
        "#   print(data[i][attributes[2]])"
      ],
      "metadata": {
        "colab": {
          "base_uri": "https://localhost:8080/"
        },
        "id": "C92F6TGjopnq",
        "outputId": "a0e10eb9-a1b4-4786-a0c1-78874ac04966"
      },
      "execution_count": 228,
      "outputs": [
        {
          "output_type": "stream",
          "name": "stdout",
          "text": [
            "932\n"
          ]
        }
      ]
    },
    {
      "cell_type": "markdown",
      "source": [
        "#Summarized Judgment File"
      ],
      "metadata": {
        "id": "k0M7Px6QzbhM"
      }
    },
    {
      "cell_type": "code",
      "execution_count": null,
      "metadata": {
        "colab": {
          "base_uri": "https://localhost:8080/"
        },
        "id": "rbsN1IVpq9be",
        "outputId": "a88172ab-d171-4d39-fe6e-38424e5fb071"
      },
      "outputs": [
        {
          "output_type": "stream",
          "name": "stdout",
          "text": [
            "932 932 932\n"
          ]
        }
      ],
      "source": [
        "import json\n",
        "f = open('data1.json')\n",
        "data = json.load(f)\n",
        "attributes = ['id', 'date', 'tagline','summarized_judgment'] # 0 , 1, 2 , 3\n",
        "# print(len(data[0][attributes[2]]))\n",
        "judgment = []\n",
        "taglines = []\n",
        "ids = []\n",
        "# // 932 judgments\n",
        "# //id date tagline judgment\n",
        "for i in range(len(data)):\n",
        "  judgment.append(data[i][attributes[3]])\n",
        "  taglines.append(data[i][attributes[2]])\n",
        "  ids.append(data[i][attributes[0]])\n",
        "print(len(judgment), len(taglines), len(ids))\n",
        "#   print(data[i][attributes[2]])"
      ]
    },
    {
      "cell_type": "code",
      "source": [
        "data[0]['tagline']"
      ],
      "metadata": {
        "colab": {
          "base_uri": "https://localhost:8080/",
          "height": 36
        },
        "id": "EMqwkzMMtC7T",
        "outputId": "00e26808-ba01-4dee-fa2d-102b8cca1036"
      },
      "execution_count": null,
      "outputs": [
        {
          "output_type": "execute_result",
          "data": {
            "text/plain": [
              "'Kapildeo Singh vs The King on 24 January, 1950'"
            ],
            "application/vnd.google.colaboratory.intrinsic+json": {
              "type": "string"
            }
          },
          "metadata": {},
          "execution_count": 15
        }
      ]
    },
    {
      "cell_type": "code",
      "source": [
        "!pip install -qU pinecone-client openai datasets"
      ],
      "metadata": {
        "colab": {
          "base_uri": "https://localhost:8080/"
        },
        "id": "MLDOjPYerKsh",
        "outputId": "2ae08452-4af9-4298-c53d-243730b44ff9"
      },
      "execution_count": null,
      "outputs": [
        {
          "output_type": "stream",
          "name": "stdout",
          "text": [
            "\u001b[2K     \u001b[90m━━━━━━━━━━━━━━━━━━━━━━━━━━━━━━━━━━━━━━━\u001b[0m \u001b[32m177.2/177.2 kB\u001b[0m \u001b[31m9.4 MB/s\u001b[0m eta \u001b[36m0:00:00\u001b[0m\n",
            "\u001b[2K     \u001b[90m━━━━━━━━━━━━━━━━━━━━━━━━━━━━━━━━━━━━━━━━\u001b[0m \u001b[32m72.0/72.0 kB\u001b[0m \u001b[31m7.9 MB/s\u001b[0m eta \u001b[36m0:00:00\u001b[0m\n",
            "\u001b[2K     \u001b[90m━━━━━━━━━━━━━━━━━━━━━━━━━━━━━━━━━━━━━━\u001b[0m \u001b[32m474.6/474.6 kB\u001b[0m \u001b[31m27.3 MB/s\u001b[0m eta \u001b[36m0:00:00\u001b[0m\n",
            "\u001b[2K     \u001b[90m━━━━━━━━━━━━━━━━━━━━━━━━━━━━━━━━━━━━━━━━\u001b[0m \u001b[32m60.0/60.0 kB\u001b[0m \u001b[31m6.3 MB/s\u001b[0m eta \u001b[36m0:00:00\u001b[0m\n",
            "\u001b[2K     \u001b[90m━━━━━━━━━━━━━━━━━━━━━━━━━━━━━━━━━━━━━━\u001b[0m \u001b[32m283.7/283.7 kB\u001b[0m \u001b[31m24.8 MB/s\u001b[0m eta \u001b[36m0:00:00\u001b[0m\n",
            "\u001b[2K     \u001b[90m━━━━━━━━━━━━━━━━━━━━━━━━━━━━━━━━━━━━━━━━\u001b[0m \u001b[32m1.0/1.0 MB\u001b[0m \u001b[31m44.7 MB/s\u001b[0m eta \u001b[36m0:00:00\u001b[0m\n",
            "\u001b[2K     \u001b[90m━━━━━━━━━━━━━━━━━━━━━━━━━━━━━━━━━━━━━━━\u001b[0m \u001b[32m110.5/110.5 kB\u001b[0m \u001b[31m8.7 MB/s\u001b[0m eta \u001b[36m0:00:00\u001b[0m\n",
            "\u001b[2K     \u001b[90m━━━━━━━━━━━━━━━━━━━━━━━━━━━━━━━━━━━━━━\u001b[0m \u001b[32m212.5/212.5 kB\u001b[0m \u001b[31m23.7 MB/s\u001b[0m eta \u001b[36m0:00:00\u001b[0m\n",
            "\u001b[2K     \u001b[90m━━━━━━━━━━━━━━━━━━━━━━━━━━━━━━━━━━━━━━\u001b[0m \u001b[32m134.3/134.3 kB\u001b[0m \u001b[31m16.7 MB/s\u001b[0m eta \u001b[36m0:00:00\u001b[0m\n",
            "\u001b[2K     \u001b[90m━━━━━━━━━━━━━━━━━━━━━━━━━━━━━━━━━━━━━━\u001b[0m \u001b[32m224.5/224.5 kB\u001b[0m \u001b[31m24.8 MB/s\u001b[0m eta \u001b[36m0:00:00\u001b[0m\n",
            "\u001b[2K     \u001b[90m━━━━━━━━━━━━━━━━━━━━━━━━━━━━━━━━━━━━━━\u001b[0m \u001b[32m114.5/114.5 kB\u001b[0m \u001b[31m15.1 MB/s\u001b[0m eta \u001b[36m0:00:00\u001b[0m\n",
            "\u001b[2K     \u001b[90m━━━━━━━━━━━━━━━━━━━━━━━━━━━━━━━━━━━━━━\u001b[0m \u001b[32m268.8/268.8 kB\u001b[0m \u001b[31m28.5 MB/s\u001b[0m eta \u001b[36m0:00:00\u001b[0m\n",
            "\u001b[2K     \u001b[90m━━━━━━━━━━━━━━━━━━━━━━━━━━━━━━━━━━━━━━\u001b[0m \u001b[32m149.6/149.6 kB\u001b[0m \u001b[31m17.4 MB/s\u001b[0m eta \u001b[36m0:00:00\u001b[0m\n",
            "\u001b[?25h"
          ]
        }
      ]
    },
    {
      "cell_type": "code",
      "source": [
        "pinecone_api_key = \"39123716-bb7b-441e-9f02-1a9e7e8bc564\"\n",
        "pinecone_env = \"us-west4-gcp-free\""
      ],
      "metadata": {
        "id": "mPZw4Q6erfWQ"
      },
      "execution_count": null,
      "outputs": []
    },
    {
      "cell_type": "code",
      "source": [
        "pip install langchain"
      ],
      "metadata": {
        "id": "IhMZ-qgsr_R9"
      },
      "execution_count": null,
      "outputs": []
    },
    {
      "cell_type": "code",
      "source": [
        "from langchain.vectorstores import Pinecone\n",
        "from langchain.embeddings.openai import OpenAIEmbeddings\n",
        "import pinecone"
      ],
      "metadata": {
        "colab": {
          "base_uri": "https://localhost:8080/"
        },
        "id": "OtC55IgsroGM",
        "outputId": "1f2052de-d680-4666-b1c4-2bb9f7b62afc"
      },
      "execution_count": null,
      "outputs": [
        {
          "output_type": "stream",
          "name": "stderr",
          "text": [
            "/usr/local/lib/python3.10/dist-packages/pinecone/index.py:4: TqdmExperimentalWarning: Using `tqdm.autonotebook.tqdm` in notebook mode. Use `tqdm.tqdm` instead to force console mode (e.g. in jupyter console)\n",
            "  from tqdm.autonotebook import tqdm\n"
          ]
        }
      ]
    },
    {
      "cell_type": "code",
      "source": [
        "index_name = 'vectorsearch'\n",
        "\n",
        "# initialize connection to pinecone (get API key at app.pinecone.io)\n",
        "pinecone.init(\n",
        "    api_key=\"39123716-bb7b-441e-9f02-1a9e7e8bc564\",\n",
        "    environment=\"us-west4-gcp-free\"  # find next to api key in console\n",
        ")\n",
        "# check if 'openai' index already exists (only create index if not)\n",
        "# if index_name not in pinecone.list_indexes():\n",
        "#     pinecone.create_index(index_name, dimension=len(embeds[0]))\n",
        "# connect to index\n",
        "index = pinecone.Index(index_name)"
      ],
      "metadata": {
        "id": "K_I1WEYCr5mv"
      },
      "execution_count": 152,
      "outputs": []
    },
    {
      "cell_type": "code",
      "source": [
        "MODEL = \"text-embedding-ada-002\""
      ],
      "metadata": {
        "id": "TBJZWX3lvGla"
      },
      "execution_count": null,
      "outputs": []
    },
    {
      "cell_type": "code",
      "source": [
        "import openai\n",
        "import os\n",
        "Openai_api_key = \"<Your OpenAI API KEY>\"\n",
        "os.environ[\"OPENAI_API_KEY\"] = Openai_api_key\n",
        "openai_env_key = \"<Your OpenAI Env Key>\"\n",
        "openai.api_key = Openai_api_key"
      ],
      "metadata": {
        "id": "jRYA4Ae8Redm"
      },
      "execution_count": 161,
      "outputs": []
    },
    {
      "cell_type": "markdown",
      "source": [
        "# Creating **Embeddings** for summarized judgments and uploading to **Pinecone**"
      ],
      "metadata": {
        "id": "jHvFrdOWz0nd"
      }
    },
    {
      "cell_type": "code",
      "source": [
        "from tqdm.auto import tqdm\n",
        "\n",
        "count = 0  # we'll use the count to create unique IDs\n",
        "batch_size = 32  # process everything in batches of 32\n",
        "for i in tqdm(range(0, len(data), batch_size)):\n",
        "  judge = []\n",
        "  # set end position of batch\n",
        "  i_end = min(i+batch_size, len(data))\n",
        "  # get batch of lines and IDs\n",
        "  # tagline + summarized judgment zipped together\n",
        "  for j in range(i, i_end):\n",
        "    judge.append(taglines[j] + \"\\n\" + judgment[j] + \"\\n\")\n",
        "  lines_batch = judge\n",
        "  print(len(lines_batch), end = \" \")\n",
        "  ids_batch = [str(ids[n]) for n in range(i, i_end)]\n",
        "  # create embeddings\n",
        "  # print(ids_batch)\n",
        "  res = openai.Embedding.create(input=lines_batch, engine=MODEL, )\n",
        "  embeds = [record['embedding'] for record in res['data']]\n",
        "  meta = [{'text' : line} for line in lines_batch]\n",
        "  # print(meta)\n",
        "  to_upsert = zip(ids_batch,embeds, meta)\n",
        "  index.upsert(vectors=list(to_upsert))\n",
        "# # print(to_upsert)\n",
        "# # # upsert to Pinecone\n",
        "# index.upsert(vectors=list(to_upsert))"
      ],
      "metadata": {
        "colab": {
          "base_uri": "https://localhost:8080/",
          "height": 66,
          "referenced_widgets": [
            "c85a517a5bfd4aeb824b075185d686d2",
            "cc164b7fc439448b98d93e51d8ec8af0",
            "8fe0f0116c0a4a988a73b333d1a4e1f3",
            "56c248449ed14b9aa5c819999f2ccfe2",
            "a9af02fd397a486e9f1db302e6c9bf8f",
            "04281b9861ee42e2b8949c6479cf66b9",
            "17c7bf4d9b9f4be190328e181c47ba6c",
            "bf1896b7df0443e2ba20f9fc7dc81bfa",
            "d7c5cd0b7d6c46e3b462cf92748fb5e7",
            "c1626b178d544edbaa8ffda01d6820c4",
            "eb22b28b7a1c49e18eb99f09c2e1d299"
          ]
        },
        "id": "rnW9QE2ysb_4",
        "outputId": "1d9b48d1-0b29-4bb9-af63-15b111ce9c9d"
      },
      "execution_count": 162,
      "outputs": [
        {
          "output_type": "display_data",
          "data": {
            "text/plain": [
              "  0%|          | 0/30 [00:00<?, ?it/s]"
            ],
            "application/vnd.jupyter.widget-view+json": {
              "version_major": 2,
              "version_minor": 0,
              "model_id": "c85a517a5bfd4aeb824b075185d686d2"
            }
          },
          "metadata": {}
        },
        {
          "output_type": "stream",
          "name": "stdout",
          "text": [
            "32 32 32 32 32 32 32 32 32 32 32 32 32 32 32 32 32 32 32 32 32 32 32 32 32 32 32 32 32 4 "
          ]
        }
      ]
    },
    {
      "cell_type": "markdown",
      "source": [
        "# Using OpenAI to answer questions about the **Case/Judgment**"
      ],
      "metadata": {
        "id": "vleZzgXV0C2L"
      }
    },
    {
      "cell_type": "markdown",
      "source": [
        "Not working good on summarized judgments due to poor quality of summarization"
      ],
      "metadata": {
        "id": "LUXLoFRl0Qrl"
      }
    },
    {
      "cell_type": "code",
      "source": [
        "from langchain.llms import OpenAI\n",
        "from langchain.chains.question_answering import load_qa_chain"
      ],
      "metadata": {
        "id": "6HjZZgt7Pir8"
      },
      "execution_count": 163,
      "outputs": []
    },
    {
      "cell_type": "code",
      "source": [],
      "metadata": {
        "id": "qAu-HNwU0Xg1"
      },
      "execution_count": null,
      "outputs": []
    },
    {
      "cell_type": "code",
      "source": [
        "llm = OpenAI(temperature = 0, openai_api_key= Openai_api_key)\n",
        "chain = load_qa_chain(llm, chain_type = \"stuff\")"
      ],
      "metadata": {
        "id": "it4Aap5ZQNEI"
      },
      "execution_count": 164,
      "outputs": []
    },
    {
      "cell_type": "code",
      "source": [
        "embeddings = OpenAIEmbeddings()\n",
        "docsearch = Pinecone.from_existing_index(index_name, embeddings)\n",
        "docs = docsearch.similarity_search(query)"
      ],
      "metadata": {
        "id": "BijCNhe7U4v0"
      },
      "execution_count": 190,
      "outputs": []
    },
    {
      "cell_type": "code",
      "source": [
        "query = \"Who is Bhikaji Narain Dhakras?\"\n",
        "# query1 = \"Where did Kapildeo singh committed the crime?\""
      ],
      "metadata": {
        "id": "i35M9VEIalcd"
      },
      "execution_count": 209,
      "outputs": []
    },
    {
      "cell_type": "code",
      "source": [
        "chain.run(input_documents = docs, question = query3)"
      ],
      "metadata": {
        "colab": {
          "base_uri": "https://localhost:8080/",
          "height": 36
        },
        "id": "1bA87VcWU9Bs",
        "outputId": "36e9d4d9-1bd4-46f6-c20e-2c51832610f7"
      },
      "execution_count": 212,
      "outputs": [
        {
          "output_type": "execute_result",
          "data": {
            "text/plain": [
              "\" I don't know.\""
            ],
            "application/vnd.google.colaboratory.intrinsic+json": {
              "type": "string"
            }
          },
          "metadata": {},
          "execution_count": 212
        }
      ]
    },
    {
      "cell_type": "markdown",
      "source": [
        "#Querying Pinecone by making embeddings using openai"
      ],
      "metadata": {
        "id": "8P4piaM2zGFg"
      }
    },
    {
      "cell_type": "code",
      "source": [
        "query = \"Tell me about kapildeo singh?\"\n",
        "query1 = \"Who is Bhikaji Narain Dhakras?\"\n",
        "query3 = \"Tell me about the case of AK Gopalan Vs the State of Madras?\"\n",
        "query4 = \"What is doctrine of severibility?\"\n",
        "query5 = \"Tell me about State of Madras vs Champakam dorairajan?\"\n",
        "query6 = \"Shankari Prasad singh deo vs Union of India\"\n",
        "xq = openai.Embedding.create(input=query6, engine=MODEL)['data'][0]['embedding']\n",
        "res = index.query([xq], top_k = 5, include_metadata=True)\n",
        "for match in res['matches']:\n",
        "    print(f\"{match['score']:.2f}: {match['metadata']['text']}\")"
      ],
      "metadata": {
        "colab": {
          "base_uri": "https://localhost:8080/"
        },
        "id": "fcM0g33tT6Pi",
        "outputId": "fd309e9d-2d71-4311-a609-29f603d49e32"
      },
      "execution_count": 231,
      "outputs": [
        {
          "output_type": "stream",
          "name": "stdout",
          "text": [
            "0.88: Sri Sankari Prasad Singh Deo vs Union Of India And State Of ... on 5 October, 1951\n",
            "sri sankari prasad singh deo vs. respondent : india and state of bihar are not ultra vires or unconstitutional. the constitution of india is competent to exercise the power of amending the constitution under art. in the constitution, the constitution ( first amendment ) act, 1951, which has inserted, inter alia, arts. 31a and 3lb in india are not unconstitutional.\n",
            "\n",
            "0.87: Sri Sri Sri Kishore Chandra Singh ... vs Babu Ganesh Prasad Bhagat And ... on 9 March, 1954\n",
            "sri sri sri kishore chandra singh deo and srishore chandra chandra singh are among those to be involved in the case - legal effect of decision under s. 33 ( 1 ) proviso of the act requires that a person eats, drinks and sleeps at that place and it is not necessary that he should own it.\n",
            "\n",
            "0.87: Rao Shiva Bahadur Singh vs The State Of Vindhya Pradesh And ... on 7 April, 1955\n",
            "judgment das, j. 1, is a petition for a writ in the nature of a writ. the facts leading up to the present petition are few and simple. petitioner's grievance is that he has been deprived of his liberty otherwise than in accordance with law law.\n",
            "\n",
            "0.86: Rao Shiva Bahadur Singh vs The State Of Vindhya Pradesh And ... on 5 April, 1955\n",
            "lokomo bahadur singh, bijan kr. ( cj ) das, sudhi ranjan bose, vivian sinha, bhuvneshwar p. ( bj ) gandhi, and imam jj. sinha j. dissenting : the whole matter is not repugnant to the constitution or the general principles of procedural law.\n",
            "\n",
            "0.85: Thakur Pratap Singh vs Shri Krishna Gupta & Ors on 2 December, 1952\n",
            "shri krishna gupta and ors. singh's case no longer takes place in india's capital. shri krishna's appeal is expected to be heard at the end of the year. the case will be heard in the civil war between india and india in the u. s.\n",
            "\n"
          ]
        }
      ]
    },
    {
      "cell_type": "markdown",
      "source": [
        "#For Fetching the real judgment"
      ],
      "metadata": {
        "id": "UP2U6BU9nRrD"
      }
    },
    {
      "cell_type": "code",
      "source": [
        "index_of_judgment = ids.index(res['matches'][0]['id'])\n",
        "full_judgment[index_of_judgment]"
      ],
      "metadata": {
        "colab": {
          "base_uri": "https://localhost:8080/",
          "height": 487
        },
        "id": "5EsTzixcZq6P",
        "outputId": "ca6953e0-469f-4724-c6f6-513e826fbe37"
      },
      "execution_count": 232,
      "outputs": [
        {
          "output_type": "execute_result",
          "data": {
            "text/plain": [
              "'           PETITIONER:\\nSRI SANKARI PRASAD SINGH DEO\\n\\n\\tVs.\\n\\nRESPONDENT:\\nUNION OF INDIA AND STATE OF BIHAR(And Other Cases).\\n\\nDATE OF JUDGMENT:\\n05/10/1951\\n\\nBENCH:\\nSASTRI, M. PATANJALI\\nBENCH:\\nSASTRI, M. PATANJALI\\nKANIA, HIRALAL J. (CJ)\\nMUKHERJEA, B.K.\\nDAS, SUDHI RANJAN\\nAIYAR, N. CHANDRASEKHARA\\n\\nCITATION:\\n 1951 AIR  458\\t\\t  1952 SCR   89\\n CITATOR INFO :\\n F\\t    1952 SC 252\\t (1,30)\\n RF\\t    1954 SC 257\\t (4)\\n R\\t    1959 SC 395\\t (28)\\n E&D\\t    1959 SC 512\\t (4)\\n F\\t    1965 SC 845\\t (20,21,23,24,25,27,33,35,38,39\\n R\\t    1965 SC1636\\t (25)\\n O\\t    1967 SC1643\\t (12,14,23,27,43,44,56,59,61,63\\n RF\\t    1973 SC1461\\t (16,20,27,30,32,38,39,44,46,88\\n RF\\t    1975 SC1193\\t (17)\\n RF\\t    1975 SC2299\\t (649)\\n RF\\t    1980 SC1789\\t (96)\\n RF\\t    1980 SC2056\\t (61)\\n RF\\t    1980 SC2097\\t (6)\\n D\\t    1981 SC 271\\t (19,33,42,43)\\n RF\\t    1986 SC1272\\t (78)\\n RF\\t    1986 SC1571\\t (34)\\n RF\\t    1987 SC1140\\t (3)\\n\\n\\nACT:\\n    Constitution  (First  Amendment) Act, 1951,\\t Arts.\\t31A,\\n31B-Validity--Constitution   of India,\\t1950, Arts.   13(2),\\n368,  379,  392--Provisional   Parliament--Power  to   amend\\nConstitution-  Constitution (Removal of Difficulties)  Order\\nNo. 2 of 1950--Validity --Amendment of\\tConstitution--Proce-\\ndure--Bill  amended  by\\t Legislature--Amendment\\t  curtailing\\nfundamental   rights--Amendment affecting land--Validity  of\\nAmending Act.\\n\\n\\n\\nHEADNOTE:\\n    The Constitution (First Amendment) Act, 1951, which\\t has\\ninserted, inter alia, Arts. 31A and 3lB in the\\tConstitution\\nof India is not ultra vires or unconstitutional.\\n    The provisional Parliament is competent to exercise\\t the\\npower of amending the Constitution under Art. 368. The\\tfact\\nthat  the said article refers to the two Houses of the\\tPar-\\nliament and the President separately and not to the  Parlia-\\nment, does not lead to the inference that the body which  is\\ninvested with the power to amend is not the Parliament but a\\ndifferent body consisting of the two Houses.\\n    The words \"all the powers conferred by the provisions of\\nthis  Constitution on Parliament\" in Art. 379 are  not\\tcon-\\nfined to such powers as could be exercised by the provision-\\nal  Parliament consisting of a single chamber, but are\\twide\\nenough\\tto include the power to amend the Constitution\\tcon-\\nferred by Art. 368.\\n    The\\t Constitution (Removal of Difficulties) Order No.  2\\nmade  by  the  President on the 26th  January,\\t1950,  which\\npurports  to adapt  Art. 368 by omitting \"either  House\\t of\"\\nand \"in each House\" and substituting \"Parliament\" for  \"that\\nHouse\" is not\\n\\t 12\\n90\\nbeyond\\tthe powers conferred on him by Art. 39:1  and  ultra\\nvires.\\tThere  is nothing in Art. 392 to  suggest  that\\t the\\nPresident should wait, before adapting a particular article,\\ntill the occasion actually arose for the provisional Parlia-\\nment to exercise the power conferred by the article.\\n    The\\t view that Art. 368 is a complete code in itself  in\\nrespect of the procedure provided by it and does not contem-\\nplate any amendment of a Bill for amendment of the Constitu-\\ntion  after it has been introduced, and that if the Bill  is\\namended during its passage through the House, the  amendment\\nAct  cannot be said to have been passed in  conformity\\twith\\nthe  procedure prescribed by Art. 368 and would be  invalid,\\nis erroneous.\\n    Although  \"law\"  must ordinarily include  constitutional\\nlaw there is a clear demarcation between ordinary law  which\\nis  made in the exercise of legislative power and  constitu-\\ntional\\tlaw,  which is made in the exercise  of\\t constituent\\npower.\\t In the context of Art. 13, \"law\" must be  taken  to\\nmean  rules  or\\t regulations made in  exercise\\tof  ordinary\\nlegislative  power  and not amendments to  the\\tconstitution\\nmade  in the exercise of constituent power with\\t the  result\\nthat  Art. 13(2) does not affect amendments made under\\tArt.\\n368.\\n    Articles 31A and 3lB inserted in the Constitution by the\\nConstitution   (First Amendment) Act, 1951, do\\tnot  curtail\\nthe  powers of the High Court under Art. 226 to issue  writs\\nfor  enforcement of any of the rights conferred by Part\\t III\\nor of the Supreme Court under Arts. 132 and 136 to entertain\\nappeals from orders issuing or refusing such writs; but they\\nonly  exclude from the purview of Part III \\'certain  classes\\nof cases.  These articles therefore do not require ratifica-\\ntion under cl. (b) of the proviso to Art. 368.\\n    Articles 31A and 31B are not invalid on the ground\\tthat\\nthey  relate to land which is a matter covered by the  State\\nList (item 18 of List II) as these articles are\\t essentially\\namendments   of the Constitution, and Parliament  alone\\t has\\nthe power to enact them.\\n\\n\\n\\nJUDGMENT:\\n'"
            ],
            "application/vnd.google.colaboratory.intrinsic+json": {
              "type": "string"
            }
          },
          "metadata": {},
          "execution_count": 232
        }
      ]
    },
    {
      "cell_type": "code",
      "source": [],
      "metadata": {
        "id": "UZEhoT5fmA6J"
      },
      "execution_count": null,
      "outputs": []
    }
  ]
}